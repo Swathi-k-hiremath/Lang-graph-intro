{
  "cells": [
    {
      "cell_type": "markdown",
      "id": "cb354baf",
      "metadata": {
        "id": "cb354baf"
      },
      "source": [
        "[![Open in Colab](https://colab.research.google.com/assets/colab-badge.svg)](https://colab.research.google.com/github/langchain-ai/langchain-academy/blob/main/module-1/router.ipynb) [![Open in LangChain Academy](https://cdn.prod.website-files.com/65b8cd72835ceeacd4449a53/66e9eba12c7b7688aa3dbb5e_LCA-badge-green.svg)](https://academy.langchain.com/courses/take/intro-to-langgraph/lessons/58239412-lesson-5-router)"
      ]
    },
    {
      "cell_type": "markdown",
      "id": "ce6fff79-25b5-4884-8aaa-e3ebb7ddd549",
      "metadata": {
        "id": "ce6fff79-25b5-4884-8aaa-e3ebb7ddd549"
      },
      "source": [
        "# Router\n",
        "\n",
        "## Review\n",
        "\n",
        "We built a graph that uses `messages` as state and a chat model with bound tools.\n",
        "\n",
        "We saw that the graph can:\n",
        "\n",
        "* Return a tool call\n",
        "* Return a natural language response\n",
        "\n",
        "## Goals\n",
        "\n",
        "We can think of this as a router, where the chat model routes between a direct response or a tool call based upon the user input.\n",
        "\n",
        "This is a simple example of an agent, where the LLM is directing the control flow either by calling a tool or just responding directly.\n",
        "\n",
        "![Screenshot 2024-08-21 at 9.24.09 AM.png](https://cdn.prod.website-files.com/65b8cd72835ceeacd4449a53/66dbac6543c3d4df239a4ed1_router1.png)\n",
        "\n",
        "Let's extend our graph to work with either output!\n",
        "\n",
        "For this, we can use two ideas:\n",
        "\n",
        "(1) Add a node that will call our tool.\n",
        "\n",
        "(2) Add a conditional edge that will look at the chat model output, and route to our tool calling node or simply end if no tool call is performed.\n",
        "\n"
      ]
    },
    {
      "cell_type": "code",
      "execution_count": 1,
      "id": "ebb4fc6e-7c85-4fc8-a4a9-0c7a527c4e5b",
      "metadata": {
        "id": "ebb4fc6e-7c85-4fc8-a4a9-0c7a527c4e5b"
      },
      "outputs": [],
      "source": [
        "%%capture --no-stderr\n",
        "%pip install --quiet -U langchain_openai langchain_core langgraph"
      ]
    },
    {
      "cell_type": "code",
      "execution_count": 2,
      "id": "885e92d9",
      "metadata": {
        "id": "885e92d9",
        "outputId": "d872f01f-52bf-481d-e022-d110eede216a",
        "colab": {
          "base_uri": "https://localhost:8080/"
        }
      },
      "outputs": [
        {
          "name": "stdout",
          "output_type": "stream",
          "text": [
            "OPENAI_API_KEY: ··········\n"
          ]
        }
      ],
      "source": [
        "import os, getpass\n",
        "\n",
        "def _set_env(var: str):\n",
        "    if not os.environ.get(var):\n",
        "        os.environ[var] = getpass.getpass(f\"{var}: \")\n",
        "\n",
        "_set_env(\"OPENAI_API_KEY\")"
      ]
    },
    {
      "cell_type": "code",
      "execution_count": 3,
      "id": "e3ba4df4-3045-49b1-9299-ced1fce14d24",
      "metadata": {
        "id": "e3ba4df4-3045-49b1-9299-ced1fce14d24"
      },
      "outputs": [],
      "source": [
        "from langchain_openai import ChatOpenAI\n",
        "\n",
        "def multiply(a: int, b: int) -> int:\n",
        "    \"\"\"Multiply a and b.\n",
        "\n",
        "    Args:\n",
        "        a: first int\n",
        "        b: second int\n",
        "    \"\"\"\n",
        "    return a * b\n",
        "\n",
        "llm = ChatOpenAI(model=\"gpt-4o\")\n",
        "llm_with_tools = llm.bind_tools([multiply])"
      ]
    },
    {
      "cell_type": "markdown",
      "id": "c77555a2",
      "metadata": {
        "id": "c77555a2"
      },
      "source": [
        " We use the [built-in `ToolNode`](https://langchain-ai.github.io/langgraph/reference/prebuilt/?h=tools+condition#toolnode) and simply pass a list of our tools to initialize it.\n",
        "\n",
        " We use the [built-in `tools_condition`](https://langchain-ai.github.io/langgraph/reference/prebuilt/?h=tools+condition#tools_condition) as our conditional edge."
      ]
    },
    {
      "cell_type": "code",
      "execution_count": 4,
      "id": "9a6fde4e-cceb-4426-b770-97ee4b41e9da",
      "metadata": {
        "id": "9a6fde4e-cceb-4426-b770-97ee4b41e9da",
        "outputId": "0baba068-17f3-447c-a036-635a3c06f01b",
        "colab": {
          "base_uri": "https://localhost:8080/",
          "height": 350
        }
      },
      "outputs": [
        {
          "output_type": "display_data",
          "data": {
            "image/png": "[encoded data removed]",
            "text/plain": [
              "<IPython.core.display.Image object>"
            ]
          },
          "metadata": {}
        }
      ],
      "source": [
        "from IPython.display import Image, display\n",
        "from langgraph.graph import StateGraph, START, END\n",
        "from langgraph.graph import MessagesState\n",
        "from langgraph.prebuilt import ToolNode\n",
        "from langgraph.prebuilt import tools_condition\n",
        "\n",
        "# Node\n",
        "def tool_calling_llm(state: MessagesState):\n",
        "    return {\"messages\": [llm_with_tools.invoke(state[\"messages\"])]}\n",
        "\n",
        "# Build graph\n",
        "builder = StateGraph(MessagesState)\n",
        "builder.add_node(\"tool_calling_llm\", tool_calling_llm)\n",
        "builder.add_node(\"tools\", ToolNode([multiply]))\n",
        "builder.add_edge(START, \"tool_calling_llm\")\n",
        "builder.add_conditional_edges(\n",
        "    \"tool_calling_llm\",\n",
        "    # If the latest message (result) from assistant is a tool call -> tools_condition routes to tools\n",
        "    # If the latest message (result) from assistant is a not a tool call -> tools_condition routes to END\n",
        "    tools_condition,\n",
        ")\n",
        "builder.add_edge(\"tools\", END)\n",
        "graph = builder.compile()\n",
        "\n",
        "# View\n",
        "display(Image(graph.get_graph().draw_mermaid_png()))"
      ]
    },
    {
      "cell_type": "code",
      "source": [
        "test_msg = [HumanMessage(content=\"Hello, How are you today?\")]\n",
        "print(tools_condition(test_msg))"
      ],
      "metadata": {
        "id": "6ELGHxDI78sZ",
        "outputId": "ba44b98d-11a1-4a30-9325-080e639f118b",
        "colab": {
          "base_uri": "https://localhost:8080/"
        }
      },
      "id": "6ELGHxDI78sZ",
      "execution_count": 12,
      "outputs": [
        {
          "output_type": "stream",
          "name": "stdout",
          "text": [
            "__end__\n"
          ]
        }
      ]
    },
    {
      "cell_type": "code",
      "source": [
        "test_msg = [HumanMessage(content=\"Hello, What is 8 multiplied by 5?\")]\n",
        "print(tools_condition(test_msg))"
      ],
      "metadata": {
        "id": "O3aq1CMJ9NRb",
        "outputId": "709d3b65-c6a1-430c-acc4-8d53810f5f4e",
        "colab": {
          "base_uri": "https://localhost:8080/"
        }
      },
      "id": "O3aq1CMJ9NRb",
      "execution_count": 16,
      "outputs": [
        {
          "output_type": "stream",
          "name": "stdout",
          "text": [
            "__end__\n"
          ]
        }
      ]
    },
    {
      "cell_type": "code",
      "execution_count": 5,
      "id": "11b608c5-0c15-4fb7-aa24-80ce5774fb85",
      "metadata": {
        "id": "11b608c5-0c15-4fb7-aa24-80ce5774fb85",
        "outputId": "c9789b09-c784-4322-b76f-c0fd95b8ca94",
        "colab": {
          "base_uri": "https://localhost:8080/"
        }
      },
      "outputs": [
        {
          "output_type": "stream",
          "name": "stdout",
          "text": [
            "================================\u001b[1m Human Message \u001b[0m=================================\n",
            "\n",
            "Hello, what is 2 multiplied by 2? .\n",
            "==================================\u001b[1m Ai Message \u001b[0m==================================\n",
            "Tool Calls:\n",
            "  multiply (call_89aUoj0EMLLoKg8AH0wuA3Ow)\n",
            " Call ID: call_89aUoj0EMLLoKg8AH0wuA3Ow\n",
            "  Args:\n",
            "    a: 2\n",
            "    b: 2\n",
            "=================================\u001b[1m Tool Message \u001b[0m=================================\n",
            "Name: multiply\n",
            "\n",
            "4\n"
          ]
        }
      ],
      "source": [
        "from langchain_core.messages import HumanMessage\n",
        "messages = [HumanMessage(content=\"Hello, what is 2 multiplied by 2? .\")]\n",
        "messages = graph.invoke({\"messages\": messages})\n",
        "for m in messages['messages']:\n",
        "    m.pretty_print()"
      ]
    },
    {
      "cell_type": "code",
      "source": [
        "messages = [HumanMessage(content=\"Hello, what is the sum of first 10 postive numbers? .\")]\n",
        "messages = graph.invoke({\"messages\": messages})\n",
        "for m in messages['messages']:\n",
        "    m.pretty_print()"
      ],
      "metadata": {
        "id": "tmr7T_cG7ZWG",
        "outputId": "cb9f499a-5b05-4358-c786-0dd6995b05af",
        "colab": {
          "base_uri": "https://localhost:8080/"
        }
      },
      "id": "tmr7T_cG7ZWG",
      "execution_count": 6,
      "outputs": [
        {
          "output_type": "stream",
          "name": "stdout",
          "text": [
            "================================\u001b[1m Human Message \u001b[0m=================================\n",
            "\n",
            "Hello, what is the sum of first 10 postive numbers? .\n",
            "==================================\u001b[1m Ai Message \u001b[0m==================================\n",
            "\n",
            "The sum of the first 10 positive numbers (1 through 10) can be calculated using the formula for the sum of an arithmetic series:\n",
            "\n",
            "\\[ \\text{Sum} = \\frac{n}{2} \\times (\\text{first term} + \\text{last term}) \\]\n",
            "\n",
            "For the first 10 positive numbers:\n",
            "\n",
            "\\[ n = 10, \\text{first term} = 1, \\text{last term} = 10 \\]\n",
            "\n",
            "\\[ \\text{Sum} = \\frac{10}{2} \\times (1 + 10) = 5 \\times 11 = 55 \\]\n",
            "\n",
            "So, the sum of the first 10 positive numbers is 55.\n"
          ]
        }
      ]
    },
    {
      "cell_type": "code",
      "source": [
        "messages = [HumanMessage(content=\"Hello, what answer to 3,4, and 5.\")]\n",
        "messages = graph.invoke({\"messages\": messages})\n",
        "for m in messages['messages']:\n",
        "    m.pretty_print()"
      ],
      "metadata": {
        "id": "dCJsj9Qa7lhW",
        "outputId": "c8cd5619-ab5c-4141-f39f-2b7550946142",
        "colab": {
          "base_uri": "https://localhost:8080/"
        }
      },
      "id": "dCJsj9Qa7lhW",
      "execution_count": 7,
      "outputs": [
        {
          "output_type": "stream",
          "name": "stdout",
          "text": [
            "================================\u001b[1m Human Message \u001b[0m=================================\n",
            "\n",
            "Hello, what answer to 3,4, and 5.\n",
            "==================================\u001b[1m Ai Message \u001b[0m==================================\n",
            "Tool Calls:\n",
            "  multiply (call_cEAOrXX5P8uGywg5ffFDqHM8)\n",
            " Call ID: call_cEAOrXX5P8uGywg5ffFDqHM8\n",
            "  Args:\n",
            "    a: 3\n",
            "    b: 3\n",
            "  multiply (call_891odSMCAM4BRXJWS6j8UW6k)\n",
            " Call ID: call_891odSMCAM4BRXJWS6j8UW6k\n",
            "  Args:\n",
            "    a: 4\n",
            "    b: 4\n",
            "  multiply (call_Gqa9K1QgcWXyCuBW6aQLJIs6)\n",
            " Call ID: call_Gqa9K1QgcWXyCuBW6aQLJIs6\n",
            "  Args:\n",
            "    a: 5\n",
            "    b: 5\n",
            "=================================\u001b[1m Tool Message \u001b[0m=================================\n",
            "Name: multiply\n",
            "\n",
            "9\n",
            "=================================\u001b[1m Tool Message \u001b[0m=================================\n",
            "Name: multiply\n",
            "\n",
            "16\n",
            "=================================\u001b[1m Tool Message \u001b[0m=================================\n",
            "Name: multiply\n",
            "\n",
            "25\n"
          ]
        }
      ]
    },
    {
      "cell_type": "code",
      "source": [
        "messages = [\"\"]\n",
        "messages = graph.invoke({\"messages\": messages})\n",
        "for m in messages['messages']:\n",
        "    m.pretty_print()"
      ],
      "metadata": {
        "id": "i7j1Smoi9hMC",
        "outputId": "c1a9b0f4-2e5c-4011-a377-dd3ab665014a",
        "colab": {
          "base_uri": "https://localhost:8080/"
        }
      },
      "id": "i7j1Smoi9hMC",
      "execution_count": 19,
      "outputs": [
        {
          "output_type": "stream",
          "name": "stdout",
          "text": [
            "================================\u001b[1m Human Message \u001b[0m=================================\n",
            "\n",
            "\n",
            "==================================\u001b[1m Ai Message \u001b[0m==================================\n",
            "\n",
            "Hello! How can I assist you today?\n"
          ]
        }
      ]
    },
    {
      "cell_type": "markdown",
      "id": "34708377-16b6-4474-9e23-71890c1fb36e",
      "metadata": {
        "id": "34708377-16b6-4474-9e23-71890c1fb36e"
      },
      "source": [
        "Now, we can see that the graph runs the tool!\n",
        "\n",
        "It responds with a `ToolMessage`.\n",
        "\n",
        "## LangGraph Studio\n",
        "\n",
        "--\n",
        "\n",
        "**⚠️ DISCLAIMER**\n",
        "\n",
        "*Running Studio currently requires a Mac. If you are not using a Mac, then skip this step.*\n",
        "\n",
        "--\n",
        "\n",
        "Load the `router` in Studio, which uses `module-1/studio/router.py` set in `module-1/studio/langgraph.json`."
      ]
    },
    {
      "cell_type": "code",
      "source": [
        "from typing import Annotated\n",
        "from typing_extensions import TypedDict\n",
        "from langgraph.graph.message import add_messages"
      ],
      "metadata": {
        "id": "cY6fMisi_A_v"
      },
      "id": "cY6fMisi_A_v",
      "execution_count": 24,
      "outputs": []
    },
    {
      "cell_type": "code",
      "source": [
        "def calculate(a: int, b: int, c:int) -> int:\n",
        "    \"\"\"Calcualtes a, b and c.\n",
        "\n",
        "    Args:\n",
        "        a: first int\n",
        "        b: second int\n",
        "        c: third int\n",
        "    \"\"\"\n",
        "    return a * b + c\n"
      ],
      "metadata": {
        "id": "xjQ0wMZwBfoq"
      },
      "id": "xjQ0wMZwBfoq",
      "execution_count": 32,
      "outputs": []
    },
    {
      "cell_type": "code",
      "source": [
        "def add(a: int, b: int) -> int:\n",
        "    \"\"\"Adds a and b.\n",
        "\n",
        "    Args:\n",
        "        a: first int\n",
        "        b: second int\n",
        "    \"\"\"\n",
        "    return a + b"
      ],
      "metadata": {
        "id": "UPhjD7KaBflC"
      },
      "id": "UPhjD7KaBflC",
      "execution_count": 33,
      "outputs": []
    },
    {
      "cell_type": "code",
      "source": [
        "tools = [calculate,multiply, add]"
      ],
      "metadata": {
        "id": "dmjzwmjkBfZu"
      },
      "id": "dmjzwmjkBfZu",
      "execution_count": 35,
      "outputs": []
    },
    {
      "cell_type": "code",
      "execution_count": 36,
      "id": "43782c33-0f41-47f2-ae38-ddb2cd4ba6f8",
      "metadata": {
        "id": "43782c33-0f41-47f2-ae38-ddb2cd4ba6f8"
      },
      "outputs": [],
      "source": [
        "class State(TypedDict):\n",
        "  messages: Annotated[list, add_messages]\n",
        "\n",
        "graph_builder = StateGraph(State)\n",
        "graph_builder.add_node(\"tools\", ToolNode(tools))\n",
        "graph_builder.add_node(\"chatbot\", lambda state: {\"messages\":llm.bind_tools(tools).invoke(state['messages'])})\n",
        "graph_builder.add_edge(\"tools\", \"chatbot\")\n",
        "graph_builder.add_conditional_edges(\n",
        "     \"chatbot\", tools_condition)\n",
        "graph_builder.set_entry_point(\"chatbot\")\n",
        "graph = graph_builder.compile()\n"
      ]
    },
    {
      "cell_type": "code",
      "source": [
        "display(Image(graph.get_graph().draw_mermaid_png()))"
      ],
      "metadata": {
        "id": "lzDjROrM-9M1",
        "outputId": "f56e2c93-5423-4a2d-bf79-e93b535679ee",
        "colab": {
          "base_uri": "https://localhost:8080/",
          "height": 266
        }
      },
      "id": "lzDjROrM-9M1",
      "execution_count": 37,
      "outputs": [
        {
          "output_type": "display_data",
          "data": {
            "image/png": "[encoded data removed]",
            "text/plain": [
              "<IPython.core.display.Image object>"
            ]
          },
          "metadata": {}
        }
      ]
    },
    {
      "cell_type": "code",
      "source": [
        "messages=graph.invoke({\"messages\": {\"role\": \"user\", \"content\": \"What's 8 multiplied by 5, and 6 multiplied by 7?\"}})\n",
        "for m in messages['messages']:\n",
        "    m.pretty_print()"
      ],
      "metadata": {
        "id": "eDc9Whvi_NPv",
        "outputId": "6ce3eb5a-86fe-4762-ea4e-4b4809c893b8",
        "colab": {
          "base_uri": "https://localhost:8080/"
        }
      },
      "id": "eDc9Whvi_NPv",
      "execution_count": 38,
      "outputs": [
        {
          "output_type": "stream",
          "name": "stdout",
          "text": [
            "================================\u001b[1m Human Message \u001b[0m=================================\n",
            "\n",
            "What's 8 multiplied by 5, and 6 multiplied by 7?\n",
            "==================================\u001b[1m Ai Message \u001b[0m==================================\n",
            "Tool Calls:\n",
            "  multiply (call_4n5LFOfQrYNli4e31L5vGMAh)\n",
            " Call ID: call_4n5LFOfQrYNli4e31L5vGMAh\n",
            "  Args:\n",
            "    a: 8\n",
            "    b: 5\n",
            "  multiply (call_s3OZzoAygpqLchJh72uaCsc0)\n",
            " Call ID: call_s3OZzoAygpqLchJh72uaCsc0\n",
            "  Args:\n",
            "    a: 6\n",
            "    b: 7\n",
            "=================================\u001b[1m Tool Message \u001b[0m=================================\n",
            "Name: multiply\n",
            "\n",
            "40\n",
            "=================================\u001b[1m Tool Message \u001b[0m=================================\n",
            "Name: multiply\n",
            "\n",
            "42\n",
            "==================================\u001b[1m Ai Message \u001b[0m==================================\n",
            "\n",
            "8 multiplied by 5 is 40, and 6 multiplied by 7 is 42.\n"
          ]
        }
      ]
    },
    {
      "cell_type": "code",
      "source": [
        "messages = [HumanMessage(content=\"Hello, What's 8 multiplied by 5, and added to 6?.\")]\n",
        "messages=graph.invoke({\"messages\": messages})\n",
        "for m in messages['messages']:\n",
        "    m.pretty_print()"
      ],
      "metadata": {
        "id": "1gMFaDM2_fIC",
        "outputId": "496f8638-e534-4cff-abc4-48181ad919bc",
        "colab": {
          "base_uri": "https://localhost:8080/"
        }
      },
      "id": "1gMFaDM2_fIC",
      "execution_count": 39,
      "outputs": [
        {
          "output_type": "stream",
          "name": "stdout",
          "text": [
            "================================\u001b[1m Human Message \u001b[0m=================================\n",
            "\n",
            "Hello, What's 8 multiplied by 5, and added to 6?.\n",
            "==================================\u001b[1m Ai Message \u001b[0m==================================\n",
            "Tool Calls:\n",
            "  multiply (call_HUJSut65bK8Fzg3ppbuw1L3o)\n",
            " Call ID: call_HUJSut65bK8Fzg3ppbuw1L3o\n",
            "  Args:\n",
            "    a: 8\n",
            "    b: 5\n",
            "  add (call_X42EK9tDbOtyWi2zwbtgu3oZ)\n",
            " Call ID: call_X42EK9tDbOtyWi2zwbtgu3oZ\n",
            "  Args:\n",
            "    a: 40\n",
            "    b: 6\n",
            "=================================\u001b[1m Tool Message \u001b[0m=================================\n",
            "Name: multiply\n",
            "\n",
            "40\n",
            "=================================\u001b[1m Tool Message \u001b[0m=================================\n",
            "Name: add\n",
            "\n",
            "46\n",
            "==================================\u001b[1m Ai Message \u001b[0m==================================\n",
            "\n",
            "8 multiplied by 5 is 40, and when you add 6 to that, the result is 46.\n"
          ]
        }
      ]
    },
    {
      "cell_type": "code",
      "source": [
        "messages = [HumanMessage(content=\"Hello, What's the calculation of 5,  7 and 6?.\")]\n",
        "messages=graph.invoke({\"messages\": messages})\n",
        "for m in messages['messages']:\n",
        "    m.pretty_print()"
      ],
      "metadata": {
        "id": "vY5RHcPfAv76",
        "outputId": "1b29b302-af37-487f-9a05-99e603c3d99c",
        "colab": {
          "base_uri": "https://localhost:8080/"
        }
      },
      "id": "vY5RHcPfAv76",
      "execution_count": 40,
      "outputs": [
        {
          "output_type": "stream",
          "name": "stdout",
          "text": [
            "================================\u001b[1m Human Message \u001b[0m=================================\n",
            "\n",
            "Hello, What's the calculation of 5,  7 and 6?.\n",
            "==================================\u001b[1m Ai Message \u001b[0m==================================\n",
            "Tool Calls:\n",
            "  calculate (call_XZdVcCbujmhCPmnOqPClaAWY)\n",
            " Call ID: call_XZdVcCbujmhCPmnOqPClaAWY\n",
            "  Args:\n",
            "    a: 5\n",
            "    b: 7\n",
            "    c: 6\n",
            "=================================\u001b[1m Tool Message \u001b[0m=================================\n",
            "Name: calculate\n",
            "\n",
            "41\n",
            "==================================\u001b[1m Ai Message \u001b[0m==================================\n",
            "\n",
            "The calculation of 5, 7, and 6 is 41.\n"
          ]
        }
      ]
    },
    {
      "cell_type": "code",
      "source": [],
      "metadata": {
        "id": "kWnHJX2rCCod"
      },
      "id": "kWnHJX2rCCod",
      "execution_count": null,
      "outputs": []
    }
  ],
  "metadata": {
    "kernelspec": {
      "display_name": "Python 3",
      "name": "python3"
    },
    "language_info": {
      "codemirror_mode": {
        "name": "ipython",
        "version": 3
      },
      "file_extension": ".py",
      "mimetype": "text/x-python",
      "name": "python",
      "nbconvert_exporter": "python",
      "pygments_lexer": "ipython3",
      "version": "3.12.1"
    },
    "colab": {
      "provenance": [],
      "gpuType": "T4"
    },
    "accelerator": "GPU"
  },
  "nbformat": 4,
  "nbformat_minor": 5
}